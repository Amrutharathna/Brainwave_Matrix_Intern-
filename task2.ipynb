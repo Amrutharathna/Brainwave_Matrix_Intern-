{
 "cells": [
  {
   "cell_type": "code",
   "execution_count": null,
   "id": "7b9337eb-2a26-442b-a092-78f4c7316f92",
   "metadata": {},
   "outputs": [],
   "source": [
    "#TITLE:Behind the Filters: Cleaning Instagram Comments for NLP\n",
    "INTRO:\n",
    "This notebook focuses on cleaning raw user comments by removing URLs, mentions, hashtags, and special characters using Python and regular expressions. \n",
    "The cleaned text will be used for further NLP tasks like sentiment analysis or classification."
   ]
  },
  {
   "cell_type": "code",
   "execution_count": 1,
   "id": "2c0dc91b-22ad-4d2e-8bb5-084b611001cb",
   "metadata": {},
   "outputs": [
    {
     "name": "stdout",
     "output_type": "stream",
     "text": [
      "Requirement already satisfied: pandas in c:\\users\\mr\\anaconda3\\envs\\snscrape_jupyter_env\\lib\\site-packages (2.3.0)\n",
      "Requirement already satisfied: matplotlib in c:\\users\\mr\\anaconda3\\envs\\snscrape_jupyter_env\\lib\\site-packages (3.10.3)\n",
      "Requirement already satisfied: seaborn in c:\\users\\mr\\anaconda3\\envs\\snscrape_jupyter_env\\lib\\site-packages (0.13.2)\n",
      "Requirement already satisfied: numpy>=1.23.2 in c:\\users\\mr\\anaconda3\\envs\\snscrape_jupyter_env\\lib\\site-packages (from pandas) (2.3.1)\n",
      "Requirement already satisfied: python-dateutil>=2.8.2 in c:\\users\\mr\\anaconda3\\envs\\snscrape_jupyter_env\\lib\\site-packages (from pandas) (2.9.0.post0)\n",
      "Requirement already satisfied: pytz>=2020.1 in c:\\users\\mr\\anaconda3\\envs\\snscrape_jupyter_env\\lib\\site-packages (from pandas) (2025.2)\n",
      "Requirement already satisfied: tzdata>=2022.7 in c:\\users\\mr\\anaconda3\\envs\\snscrape_jupyter_env\\lib\\site-packages (from pandas) (2025.2)\n",
      "Requirement already satisfied: contourpy>=1.0.1 in c:\\users\\mr\\anaconda3\\envs\\snscrape_jupyter_env\\lib\\site-packages (from matplotlib) (1.3.2)\n",
      "Requirement already satisfied: cycler>=0.10 in c:\\users\\mr\\anaconda3\\envs\\snscrape_jupyter_env\\lib\\site-packages (from matplotlib) (0.12.1)\n",
      "Requirement already satisfied: fonttools>=4.22.0 in c:\\users\\mr\\anaconda3\\envs\\snscrape_jupyter_env\\lib\\site-packages (from matplotlib) (4.58.4)\n",
      "Requirement already satisfied: kiwisolver>=1.3.1 in c:\\users\\mr\\anaconda3\\envs\\snscrape_jupyter_env\\lib\\site-packages (from matplotlib) (1.4.8)\n",
      "Requirement already satisfied: packaging>=20.0 in c:\\users\\mr\\anaconda3\\envs\\snscrape_jupyter_env\\lib\\site-packages (from matplotlib) (24.2)\n",
      "Requirement already satisfied: pillow>=8 in c:\\users\\mr\\anaconda3\\envs\\snscrape_jupyter_env\\lib\\site-packages (from matplotlib) (11.2.1)\n",
      "Requirement already satisfied: pyparsing>=2.3.1 in c:\\users\\mr\\anaconda3\\envs\\snscrape_jupyter_env\\lib\\site-packages (from matplotlib) (3.2.3)\n",
      "Requirement already satisfied: six>=1.5 in c:\\users\\mr\\anaconda3\\envs\\snscrape_jupyter_env\\lib\\site-packages (from python-dateutil>=2.8.2->pandas) (1.17.0)\n",
      "Note: you may need to restart the kernel to use updated packages.\n"
     ]
    }
   ],
   "source": [
    "#Data Analysis Tools Installation\n",
    "!pip install pandas matplotlib seaborn"
   ]
  },
  {
   "cell_type": "code",
   "execution_count": 3,
   "id": "166b86b9-c91d-4759-b6bd-6663f13f3dbc",
   "metadata": {},
   "outputs": [
    {
     "name": "stdout",
     "output_type": "stream",
     "text": [
      "Index(['ID', 'Label', 'Negative aspects', 'Positive aspects', 'Comment'], dtype='object')\n"
     ]
    },
    {
     "data": {
      "text/html": [
       "<div>\n",
       "<style scoped>\n",
       "    .dataframe tbody tr th:only-of-type {\n",
       "        vertical-align: middle;\n",
       "    }\n",
       "\n",
       "    .dataframe tbody tr th {\n",
       "        vertical-align: top;\n",
       "    }\n",
       "\n",
       "    .dataframe thead th {\n",
       "        text-align: right;\n",
       "    }\n",
       "</style>\n",
       "<table border=\"1\" class=\"dataframe\">\n",
       "  <thead>\n",
       "    <tr style=\"text-align: right;\">\n",
       "      <th></th>\n",
       "      <th>ID</th>\n",
       "      <th>Label</th>\n",
       "      <th>Negative aspects</th>\n",
       "      <th>Positive aspects</th>\n",
       "      <th>Comment</th>\n",
       "    </tr>\n",
       "  </thead>\n",
       "  <tbody>\n",
       "    <tr>\n",
       "      <th>0</th>\n",
       "      <td>2</td>\n",
       "      <td>neutral</td>\n",
       "      <td>NaN</td>\n",
       "      <td>NaN</td>\n",
       "      <td>Salam sizin internet tarifləriniz Sabunçu r-nu...</td>\n",
       "    </tr>\n",
       "    <tr>\n",
       "      <th>1</th>\n",
       "      <td>3</td>\n",
       "      <td>neutral</td>\n",
       "      <td>NaN</td>\n",
       "      <td>NaN</td>\n",
       "      <td>Salam.Zehmet olmasa drekte baxin</td>\n",
       "    </tr>\n",
       "    <tr>\n",
       "      <th>2</th>\n",
       "      <td>4</td>\n",
       "      <td>negative</td>\n",
       "      <td>not working</td>\n",
       "      <td>NaN</td>\n",
       "      <td>Abşeronda internet niyə işləmir</td>\n",
       "    </tr>\n",
       "    <tr>\n",
       "      <th>3</th>\n",
       "      <td>5</td>\n",
       "      <td>negative</td>\n",
       "      <td>internet stops;no answer;didn't like it at all</td>\n",
       "      <td>NaN</td>\n",
       "      <td>33 manat pul göçurdurem internet her 5 dəqiqəd...</td>\n",
       "    </tr>\n",
       "    <tr>\n",
       "      <th>4</th>\n",
       "      <td>6</td>\n",
       "      <td>negative</td>\n",
       "      <td>can't access the Internet</td>\n",
       "      <td>NaN</td>\n",
       "      <td>Salam abşeronda girə bilmirik internetə niyə?</td>\n",
       "    </tr>\n",
       "  </tbody>\n",
       "</table>\n",
       "</div>"
      ],
      "text/plain": [
       "   ID     Label                                Negative aspects  \\\n",
       "0   2   neutral                                             NaN   \n",
       "1   3   neutral                                             NaN   \n",
       "2   4  negative                                     not working   \n",
       "3   5  negative  internet stops;no answer;didn't like it at all   \n",
       "4   6  negative                       can't access the Internet   \n",
       "\n",
       "  Positive aspects                                            Comment  \n",
       "0              NaN  Salam sizin internet tarifləriniz Sabunçu r-nu...  \n",
       "1              NaN                   Salam.Zehmet olmasa drekte baxin  \n",
       "2              NaN                    Abşeronda internet niyə işləmir  \n",
       "3              NaN  33 manat pul göçurdurem internet her 5 dəqiqəd...  \n",
       "4              NaN      Salam abşeronda girə bilmirik internetə niyə?  "
      ]
     },
     "execution_count": 3,
     "metadata": {},
     "output_type": "execute_result"
    }
   ],
   "source": [
    "#Load and Preview the Dataset\n",
    "import pandas as pd\n",
    "\n",
    "# Loading the CSV file\n",
    "data = pd.read_csv(\"citynet_denormalized_dataset_with_comment.csv\")\n",
    "\n",
    "# Preview data\n",
    "print(data.columns)\n",
    "data.head()\n"
   ]
  },
  {
   "cell_type": "code",
   "execution_count": 17,
   "id": "e4c3ce20-caa3-48f5-b6dd-265e2d3fb643",
   "metadata": {},
   "outputs": [],
   "source": [
    "#Keep Only Required Fields and Preprocess Text\n",
    "df = data[['Comment', 'Label']].copy()\n",
    "df.dropna(inplace=True)\n",
    "import re\n",
    "def clean_text(text):\n",
    "    text = str(text) # Ensure text is a string\n",
    "    # Remove URLs (http/https, www, @mentions, #hashtags)\n",
    "    text = re.sub(r\"https?://\\S+|www\\.\\S+|@\\S+|#\\S+\", \"\", text, flags=re.IGNORECASE)\n",
    "    text = re.sub(r\"[^a-zA-Z\\s]\", \"\", text).lower()\n",
    "    return text\n",
    "df['cleaned_text'] = df['Comment'].apply(clean_text)\n"
   ]
  },
  {
   "cell_type": "code",
   "execution_count": 21,
   "id": "d6d41681-ecb2-430c-bfd1-af21d35d60c8",
   "metadata": {},
   "outputs": [
    {
     "name": "stdout",
     "output_type": "stream",
     "text": [
      "Index(['ID', 'Label', 'Negative aspects', 'Positive aspects', 'Comment'], dtype='object')\n"
     ]
    }
   ],
   "source": [
    "# Reading the CSV File and Checking Structure\n",
    "import pandas as pd\n",
    "data = pd.read_csv(\"citynet_denormalized_dataset_with_comment.csv\")\n",
    "# Check available column names\n",
    "print(data.columns)\n"
   ]
  },
  {
   "cell_type": "code",
   "execution_count": 55,
   "id": "c6f7421f-f64e-4d48-936b-9930835c0a24",
   "metadata": {},
   "outputs": [],
   "source": [
    "df = data[['Comment', 'Label']].copy() \n"
   ]
  },
  {
   "cell_type": "code",
   "execution_count": 57,
   "id": "730ee1cd-e3e9-47c4-8217-85cdb791f99a",
   "metadata": {},
   "outputs": [
    {
     "name": "stdout",
     "output_type": "stream",
     "text": [
      "                             Comment  Label  cleaned_text\n",
      "0                       Hello world!      1   hello world\n",
      "1  @user Check this: https://abc.com      0   check this \n",
      "3                      100% amazing!      1       amazing\n"
     ]
    }
   ],
   "source": [
    "#cleaning and pre-processing the text\n",
    "import pandas as pd\n",
    "import re\n",
    "\n",
    "# Sample data simulation\n",
    "# data = pd.read_csv('your_file.csv')  # <-- use your real data\n",
    "data = pd.DataFrame({\n",
    "    'Comment': [\"Hello world!\", \"@user Check this: https://abc.com\", None, \"100% amazing!\"],\n",
    "    'Label': [1, 0, 1, 1]\n",
    "})\n",
    "\n",
    "# Use only necessary columns\n",
    "df = data[['Comment', 'Label']].copy()\n",
    "\n",
    "# Drop missing/null rows\n",
    "df.dropna(inplace=True)\n",
    "\n",
    "# Clean function\n",
    "def clean_text(text):\n",
    "    text = str(text)\n",
    "    text = re.sub(r\"https?://\\S+|www\\.\\S+|@\\S+|#\\S+\", \"\", text, flags=re.IGNORECASE)\n",
    "    text = re.sub(r\"[^a-zA-Z\\s]\", \"\", text).lower()\n",
    "    return text\n",
    "\n",
    "# Apply cleaning\n",
    "df['cleaned_text'] = df['Comment'].apply(clean_text)\n",
    "\n",
    "# Show output\n",
    "print(df.head())\n"
   ]
  },
  {
   "cell_type": "code",
   "execution_count": 45,
   "id": "71312fd7-b035-4222-94d8-084ac78bd0ee",
   "metadata": {},
   "outputs": [
    {
     "data": {
      "text/html": [
       "<div>\n",
       "<style scoped>\n",
       "    .dataframe tbody tr th:only-of-type {\n",
       "        vertical-align: middle;\n",
       "    }\n",
       "\n",
       "    .dataframe tbody tr th {\n",
       "        vertical-align: top;\n",
       "    }\n",
       "\n",
       "    .dataframe thead th {\n",
       "        text-align: right;\n",
       "    }\n",
       "</style>\n",
       "<table border=\"1\" class=\"dataframe\">\n",
       "  <thead>\n",
       "    <tr style=\"text-align: right;\">\n",
       "      <th></th>\n",
       "      <th>Comment</th>\n",
       "      <th>Label</th>\n",
       "    </tr>\n",
       "  </thead>\n",
       "  <tbody>\n",
       "    <tr>\n",
       "      <th>0</th>\n",
       "      <td>Salam sizin internet tarifləriniz Sabunçu r-nu...</td>\n",
       "      <td>neutral</td>\n",
       "    </tr>\n",
       "    <tr>\n",
       "      <th>1</th>\n",
       "      <td>Salam.Zehmet olmasa drekte baxin</td>\n",
       "      <td>neutral</td>\n",
       "    </tr>\n",
       "    <tr>\n",
       "      <th>2</th>\n",
       "      <td>Abşeronda internet niyə işləmir</td>\n",
       "      <td>negative</td>\n",
       "    </tr>\n",
       "    <tr>\n",
       "      <th>3</th>\n",
       "      <td>33 manat pul göçurdurem internet her 5 dəqiqəd...</td>\n",
       "      <td>negative</td>\n",
       "    </tr>\n",
       "    <tr>\n",
       "      <th>4</th>\n",
       "      <td>Salam abşeronda girə bilmirik internetə niyə?</td>\n",
       "      <td>negative</td>\n",
       "    </tr>\n",
       "  </tbody>\n",
       "</table>\n",
       "</div>"
      ],
      "text/plain": [
       "                                             Comment     Label\n",
       "0  Salam sizin internet tarifləriniz Sabunçu r-nu...   neutral\n",
       "1                   Salam.Zehmet olmasa drekte baxin   neutral\n",
       "2                    Abşeronda internet niyə işləmir  negative\n",
       "3  33 manat pul göçurdurem internet her 5 dəqiqəd...  negative\n",
       "4      Salam abşeronda girə bilmirik internetə niyə?  negative"
      ]
     },
     "execution_count": 45,
     "metadata": {},
     "output_type": "execute_result"
    }
   ],
   "source": [
    "df.head()\n"
   ]
  },
  {
   "cell_type": "code",
   "execution_count": 59,
   "id": "5caa60e8-ce2f-4ba7-9ae6-de2cb9e3c74a",
   "metadata": {},
   "outputs": [
    {
     "name": "stdout",
     "output_type": "stream",
     "text": [
      "                                    Comment   Cleaned_Comment\n",
      "0  Hello @user! Visit https://example.com 😄    hello  visit  \n",
      "1                Bu çox gözəldir! #çoxşükür  bu çox gözəldir \n",
      "2                        Invalid 123 text!!     invalid  text\n"
     ]
    }
   ],
   "source": [
    "#showing the comment and cleaned comment\n",
    "import pandas as pd\n",
    "import re\n",
    "\n",
    "# Sample data\n",
    "data = pd.DataFrame({\n",
    "    'Comment': [\n",
    "        \"Hello @user! Visit https://example.com 😄\", \n",
    "        \"Bu çox gözəldir! #çoxşükür\", \n",
    "        \"Invalid 123 text!!\", \n",
    "        None\n",
    "    ],\n",
    "    'Label': [1, 0, 1, 0]\n",
    "})\n",
    "\n",
    "# Clean function\n",
    "def clean_text(text):\n",
    "    text = str(text)\n",
    "    text = re.sub(r\"http\\S+|www\\S+|@\\S+|#\\S+\", \"\", text)  # Remove links, hashtags, mentions\n",
    "    text = re.sub(r\"[^a-zA-ZşŞıİçÇöÖüÜəƏğĞ\\s]\", \"\", text)  # Keep only letters\n",
    "    return text.lower()\n",
    "\n",
    "# Use only required columns and drop nulls\n",
    "df = data[['Comment', 'Label']].copy()\n",
    "df.dropna(inplace=True)\n",
    "\n",
    "# Apply cleaning\n",
    "df['Cleaned_Comment'] = df['Comment'].apply(clean_text)\n",
    "\n",
    "# Show result\n",
    "print(df[['Comment', 'Cleaned_Comment']])\n"
   ]
  },
  {
   "cell_type": "code",
   "execution_count": 51,
   "id": "2b9b9ce2-4607-4d46-8dbd-69e8d043e67e",
   "metadata": {},
   "outputs": [
    {
     "data": {
      "image/png": "[encoded data removed]",
      "text/plain": [
       "<Figure size 640x480 with 1 Axes>"
      ]
     },
     "metadata": {},
     "output_type": "display_data"
    }
   ],
   "source": [
    "#visualisation using plot\n",
    "import seaborn as sns\n",
    "import matplotlib.pyplot as plt\n",
    "\n",
    "sns.countplot(x='Label', data=df)\n",
    "plt.title(\"Instagram Sentiment Distribution\")\n",
    "plt.xlabel(\"Sentiment\")\n",
    "plt.ylabel(\"Number of Comments\")\n",
    "plt.show()\n"
   ]
  },
  {
   "cell_type": "code",
   "execution_count": 53,
   "id": "2e486336-4223-43f9-81e2-a6c601dfc68b",
   "metadata": {},
   "outputs": [
    {
     "name": "stdout",
     "output_type": "stream",
     "text": [
      "Label\n",
      "negative    908\n",
      "neutral     265\n",
      "positive    128\n",
      "mixed         1\n",
      "Name: count, dtype: int64\n"
     ]
    }
   ],
   "source": [
    "#Analyze Class Balance\n",
    "(df['Label'].value_counts())\n"
   ]
  },
  {
   "cell_type": "code",
   "execution_count": null,
   "id": "5286900c-3918-4338-9c0b-bc03ef089e5f",
   "metadata": {},
   "outputs": [],
   "source": [
    "#conclusion:\n",
    "In this notebook, \n",
    "we successfully loaded and explored a dataset containing user comments. We selected only the necessary columns (Comment and Label), removed missing values, and applied a text cleaning function \n",
    "to remove URLs, mentions, hashtags, special characters, and convert the text to lowercase. \n",
    "This preprocessing step ensures that the data is clean, consistent, and ready for downstream NLP tasks such as sentiment analysis or classification.\n",
    "\n",
    "Additionally, we analyzed the label distribution to check for class imbalance,\n",
    "which is important to consider when building predictive models. With this cleaned and structured dataset, \n",
    "we are now ready to proceed with feature extraction, model training, or further text analysis.\n",
    "\n"
   ]
  }
 ],
 "metadata": {
  "kernelspec": {
   "display_name": "Python (snscrape_jupyter_env)",
   "language": "python",
   "name": "snscrape_jupyter_env"
  },
  "language_info": {
   "codemirror_mode": {
    "name": "ipython",
    "version": 3
   },
   "file_extension": ".py",
   "mimetype": "text/x-python",
   "name": "python",
   "nbconvert_exporter": "python",
   "pygments_lexer": "ipython3",
   "version": "3.11.13"
  }
 },
 "nbformat": 4,
 "nbformat_minor": 5
}
